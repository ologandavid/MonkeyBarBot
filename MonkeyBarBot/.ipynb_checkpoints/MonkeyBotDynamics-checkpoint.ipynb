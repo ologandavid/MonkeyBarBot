{
 "cells": [
  {
   "cell_type": "code",
   "execution_count": 1,
   "id": "83811563",
   "metadata": {
    "scrolled": true
   },
   "outputs": [
    {
     "name": "stderr",
     "output_type": "stream",
     "text": [
      "\u001b[32m\u001b[1m  Activating\u001b[22m\u001b[39m environment at `~/Dropbox/My Mac (MacBook Pro (2))/Desktop/CMU/Optimal Control/Optimal-Controls-Gymnastics-Bot/MonkeyBarBot/Project.toml`\n"
     ]
    }
   ],
   "source": [
    "import Pkg\n",
    "Pkg.activate(@__DIR__)\n",
    "Pkg.instantiate()\n",
    "import MathOptInterface as MOI\n",
    "import Ipopt \n",
    "import FiniteDiff\n",
    "import ForwardDiff as FD\n",
    "import Convex as cvx\n",
    "import GeometryBasics: Cylinder\n",
    "import ECOS\n",
    "using LinearAlgebra\n",
    "using Plots\n",
    "using Random\n",
    "using JLD2\n",
    "using Test\n",
    "using GeometryBasics\n",
    "using CoordinateTransformations\n",
    "import MeshCat as mc \n",
    "using Statistics "
   ]
  },
  {
   "cell_type": "code",
   "execution_count": 2,
   "id": "36b869bf",
   "metadata": {
    "scrolled": true
   },
   "outputs": [
    {
     "data": {
      "text/plain": [
       "rk4 (generic function with 1 method)"
      ]
     },
     "execution_count": 2,
     "metadata": {},
     "output_type": "execute_result"
    }
   ],
   "source": [
    "include(joinpath(@__DIR__, \"utils\",\"fmincon.jl\"))\n",
    "include(joinpath(@__DIR__, \"utils\",\"planar_monkeybot.jl\"))\n",
    "        "
   ]
  },
  {
   "cell_type": "code",
   "execution_count": 3,
   "id": "b06ce3b9",
   "metadata": {},
   "outputs": [
    {
     "data": {
      "text/plain": [
       "(xic = [1.0471975511965976, 1.5707963267948966, 1.0, 1.0, 1.0471975511965976, 0.1, 0.1, 0.0, 0.0, 0.1], dt = 0.01, N = 100, g = 9.81, l1 = 1, l2 = 1, L = 1, I1 = 0.2, I2 = 0.2, I = 0.2, M = 1, m1 = 1, m2 = 1, a1 = 0.5, a2 = 0.5)"
      ]
     },
     "execution_count": 3,
     "metadata": {},
     "output_type": "execute_result"
    }
   ],
   "source": [
    "#Monkeybot State Vector = [θ1, θ2, px, py, θ, , θ1 ,̇θ2, ̇px, ̇py, ̇θ ] \n",
    "\n",
    "#Define Variables\n",
    "\n",
    "#Add in Contact Modes (4) \n",
    "#Zero out Velocities depending on which arm is in contact\n",
    "\n",
    "#Inital for Check\n",
    "θ1, θ2, θ = pi/3, pi/2, pi/3\n",
    "dθ1, dθ2, dθ = 0.1, 0.1, 0.1\n",
    "px, py = 1,1\n",
    "dpx, dpy = 0,0\n",
    "xic = [θ1, θ2, px, py, θ, dθ1, dθ2, dpx, dpy, dθ]\n",
    "dt = 0.01\n",
    "N = 100\n",
    "\n",
    "params = (xic = xic,\n",
    "          dt = dt,\n",
    "          N = N,\n",
    "          g = 9.81,   # gravity \n",
    "        l1 = 1, l2 =1, L = 1,\n",
    "        I1 = 0.2, I2 = 0.2, I = 0.2,\n",
    "        M = 1, m1 = 1, m2 = 1,\n",
    "        a1 = 0.5, a2 = 0.5)"
   ]
  },
  {
   "cell_type": "code",
   "execution_count": 4,
   "id": "145b185a",
   "metadata": {},
   "outputs": [
    {
     "data": {
      "text/plain": [
       "computeA (generic function with 1 method)"
      ]
     },
     "execution_count": 4,
     "metadata": {},
     "output_type": "execute_result"
    }
   ],
   "source": [
    "# using MeshCat\n",
    "# vis = Visualizer()\n",
    "# open(vis)\n",
    "function computeA(params, x, ct)\n",
    "    g = params.g\n",
    "    l1, l2, L = params.l1, params.l2, params.L \n",
    "    I1, I2, I = params.I1, params.I2, params.I\n",
    "    M, m1, m2 = params.M, params.m1, params.m2\n",
    "    a1, a2 = params.a1, params.a2\n",
    "    \n",
    "    θ1, θ2, px, py, θ = x\n",
    "    u1, u2 = ct[1:2]\n",
    "    \n",
    "    if (u1 == 1)  && (u2 == 1)\n",
    "        #Both Arms in Contact\n",
    "        A = [u1*l1*sin(θ+θ1) 0                   1*u1     0       u1*((L/2)*sin(θ)+l1*sin(θ+θ1))\n",
    "            -u1*l1*cos(θ+θ1) 0                   0        1*u1    u1*((-L/2)*cos(θ)-l1*cos(θ+θ1))\n",
    "            0                u2*l2*sin(θ+θ2)     1*u2     0       u2*((L/2)*sin(θ)+l2*sin(θ+θ2))\n",
    "            0               -u2*l2*cos(θ+θ2)     0        1*u2    u2*((-L/2)*cos(θ)-l2*cos(θ+θ2))]\n",
    "    elseif (u1 == 1) && (u2 != 1)\n",
    "        # Only Arm 1 in Contact\n",
    "        A = [u1*l1*sin(θ+θ1) 0                   1*u1     0       u1*((L/2)*sin(θ)+l1*sin(θ+θ1))\n",
    "            -u1*l1*cos(θ+θ1) 0                   0        1*u1    u1*((-L/2)*cos(θ)-l1*cos(θ+θ1))]\n",
    "    elseif (u1 != 1) && (u2 == 1)\n",
    "        # Only Arm 2 in Contact\n",
    "        A = [0                u2*l2*sin(θ+θ2)     1*u2     0       u2*((L/2)*sin(θ)+l2*sin(θ+θ2))\n",
    "            0               -u2*l2*cos(θ+θ2)     0        1*u2    u2*((-L/2)*cos(θ)-l2*cos(θ+θ2))]\n",
    "    end\n",
    "    return A\n",
    "end"
   ]
  },
  {
   "cell_type": "code",
   "execution_count": 5,
   "id": "1987865b",
   "metadata": {},
   "outputs": [
    {
     "data": {
      "text/plain": [
       "monkeybot_dynamics (generic function with 1 method)"
      ]
     },
     "execution_count": 5,
     "metadata": {},
     "output_type": "execute_result"
    }
   ],
   "source": [
    "function monkeybot_dynamics(params, x, τ, ct)\n",
    "    # Dynamics for monkeybot\n",
    "    # params = vect\n",
    "    \n",
    "    # Unpack params for use in dynamics\n",
    "    g = params.g\n",
    "    l1, l2, L = params.l1, params.l2, params.L \n",
    "    I1, I2, I = params.I1, params.I2, params.I\n",
    "    M, m1, m2 = params.M, params.m1, params.m2\n",
    "    a1, a2 = params.a1, params.a2\n",
    "\n",
    "    # Unpack the state vector and velocity vector\n",
    "    # Standard convenction -> x = [q, ̇q], ̇x = [̇q, ̈q]\n",
    "    θ1, θ2, px, py, θ = x[1:5]\n",
    "    dθ1, dθ2, dpx, dpy, dθ = x[6:10]\n",
    "    \n",
    "    q = [θ1, θ2, px, py, θ]\n",
    "    dq = [dθ1, dθ2, dpx, dpy, dθ]\n",
    "    \n",
    "    # Preallocate Space for xddot\n",
    "    xdot = zeros(eltype([x;τ]), 10)\n",
    "    \n",
    "    # Control\n",
    "    tau1, tau2 = τ[1:2]\n",
    "    \n",
    "    #Arms in Contact represented with u1, u2\n",
    "    u1, u2 = ct[1:2]\n",
    "    \n",
    "    #dx coeff\n",
    "    c1 = [m1*a1*l1*L*sin(θ1)*dθ 0 0 0 m1*a1*l1*L*sin(θ1)*dθ1\n",
    "        zeros(4,1) zeros(4,1) zeros(4,1) zeros(4,1) zeros(4,1)]\n",
    "    c2 = [0 0 0 0 0 \n",
    "            0 m2*a2*l2*L*sin(θ2)*dθ 0 0 m2*a2*l2*L*sin(θ2)*dθ\n",
    "            zeros(3,1) zeros(3,1) zeros(3,1) zeros(3,1) zeros(3,1)]\n",
    "    c3 = [-0.5*m1*L*a1*l1*sin(θ1)*dθ^2 0 0 0 -0.5*m1*L*a1*l1*sin(θ1)*(dθ+dθ1)\n",
    "            zeros(4,1) zeros(4,1) zeros(4,1) zeros(4,1) zeros(4,1)]\n",
    "    c4 = [0 0 0 0 0 \n",
    "            0 -0.5*m2*L*a2*l2*sin(θ2)*dθ^2 0 0 -0.5*m2*L*a2*l2*sin(θ2)*(dθ+dθ2)\n",
    "            zeros(3,1) zeros(3,1) zeros(3,1) zeros(3,1) zeros(3,1)]\n",
    "    Mbar = c1+c2-c3-c4\n",
    "\n",
    "    \n",
    "    #ddx coeff\n",
    "    #3\n",
    "    c1 = [I1+m1*a1^2*l1^2 0 0 0 m1*a1^2*l1^2+m1*a1*l1*L*cos(θ1)\n",
    "            zeros(4,1) zeros(4,1) zeros(4,1) zeros(4,1) zeros(4,1)]\n",
    "    c2 = [0 0 0 0 0 \n",
    "            0 I2+m2*a2^2*l2^2 0 0 m2*a2^2*l2^2 + m2*a2*l2*L*cos(θ2)\n",
    "            zeros(3,1) zeros(3,1) zeros(3,1) zeros(3,1) zeros(3,1)]\n",
    "    c3 = zeros(5,5)\n",
    "    c3[3,3] = M+m1+m2\n",
    "    c3[4,4] = M+m1+m2\n",
    "    c3[5,5] = I+I1+I2\n",
    "    Cbar = c1+ c2 +c3\n",
    "\n",
    "    \n",
    "    #2 \n",
    "    dVdq = [m1*g*a1*l1*cos(θ+θ1)\n",
    "            m2*g*a2*l2*cos(θ+θ2)\n",
    "            0\n",
    "            M*g + m2*g + m1*g\n",
    "            m1*g*((2/L)*cos(θ) + a1*l1*cos(θ+θ1)) + m2*g*((2/L)*cos(θ) + a2*l2*cos(θ+θ2))]\n",
    "    \n",
    "#     #Equation for A^T*λ\n",
    "#     A_t = [u1*l1*sin(θ+θ1) -u1*l1*cos(θ+θ1) 0 0\n",
    "#             0 0 u2*l2*sin(θ+θ2) -u2*l2*cos(θ+θ2)\n",
    "#             1*u1 0 1*u2 0\n",
    "#             0 1*u1 0 1*u2\n",
    "#             u1*((L/2)*sin(θ)+l1*sin(θ+θ1)) u1*((-L/2)*cos(θ)-l1*cos(θ+θ1)) u2*((L/2)*sin(θ)+l2*sin(θ+θ2)) u2*((-L/2)*cos(θ)-l2*cos(θ+θ2))]\n",
    "    \n",
    "    A = computeA(params, q, ct)\n",
    "    na, ma = size(A)\n",
    "    A_t = transpose(A)\n",
    "\n",
    "\n",
    "    dvecA_dx = FD.jacobian(_q -> vec(computeA(params, _q, ct)), q)\n",
    "    dvecA_dt = dvecA_dx*dq\n",
    "    dA = reshape(dvecA_dt, na, ma)\n",
    "\n",
    "    out = [Mbar A_t; A zeros(na,na)]\\([τ - dVdq; zeros(na,1)]-([coeff1; dA]*dq))\n",
    "#     ddq = inv(coeff2)*(u - coeff1*dx-dVdq + A_t*λ) # Only Works if coeff2 isnt singular\n",
    "\n",
    "    ddq = out[1:5]\n",
    "    xdot[1:5] = dq\n",
    "    xdot[6:10] = ddq\n",
    "    return xdot\n",
    "\n",
    "end\n",
    "    "
   ]
  },
  {
   "cell_type": "code",
   "execution_count": 6,
   "id": "088eb891",
   "metadata": {},
   "outputs": [
    {
     "ename": "LoadError",
     "evalue": "UndefVarError: coeff1 not defined",
     "output_type": "error",
     "traceback": [
      "UndefVarError: coeff1 not defined",
      "",
      "Stacktrace:",
      " [1] monkeybot_dynamics(params::NamedTuple{(:xic, :dt, :N, :g, :l1, :l2, :L, :I1, :I2, :I, :M, :m1, :m2, :a1, :a2), Tuple{Vector{Float64}, Float64, Int64, Float64, Int64, Int64, Int64, Float64, Float64, Float64, Int64, Int64, Int64, Float64, Float64}}, x::Vector{Float64}, τ::Vector{Int64}, ct::Matrix{Int64})",
      "   @ Main ./In[5]:80",
      " [2] top-level scope",
      "   @ In[6]:5"
     ]
    }
   ],
   "source": [
    "x = xic\n",
    "u = [4, 4, 0, 0, 0]\n",
    "ct = [1 0]\n",
    "\n",
    "monkeybot_dynamics(params, x, u, ct)"
   ]
  },
  {
   "cell_type": "code",
   "execution_count": 7,
   "id": "66868400",
   "metadata": {},
   "outputs": [],
   "source": [
    "# g = params.g\n",
    "# l1, l2, L = params.l1, params.l2, params.L \n",
    "# I1, I2, I = params.I1, params.I2, params.I\n",
    "# M, m1, m2 = params.M, params.m1, params.m2\n",
    "# a1, a2 = params.a1, params.a2\n",
    "\n",
    "# c1 = [m1*a1*l1*L*sin(θ1)*dθ 0 0 0 m1*a1*l1*L*sin(θ1)*dθ1\n",
    "#         zeros(4,1) zeros(4,1) zeros(4,1) zeros(4,1) zeros(4,1)]\n",
    "# settransform!(vis, Translation(-0.5, -0.5, 0))"
   ]
  },
  {
   "cell_type": "code",
   "execution_count": 8,
   "id": "806b8527",
   "metadata": {
    "scrolled": false
   },
   "outputs": [
    {
     "name": "stderr",
     "output_type": "stream",
     "text": [
      "\u001b[36m\u001b[1m┌ \u001b[22m\u001b[39m\u001b[36m\u001b[1mInfo: \u001b[22m\u001b[39mMeshCat server started. You can open the visualizer by visiting the following URL in your browser:\n",
      "\u001b[36m\u001b[1m└ \u001b[22m\u001b[39mhttp://127.0.0.1:8702\n"
     ]
    },
    {
     "data": {
      "text/html": [
       "    <div style=\"height: 500px; width: 100%; overflow-x: auto; overflow-y: hidden; resize: both\">\n",
       "    <iframe src=\"http://127.0.0.1:8702\" style=\"width: 100%; height: 100%; border: none\"></iframe>\n",
       "    </div>\n"
      ],
      "text/plain": [
       "MeshCat.DisplayedVisualizer(MeshCat.CoreVisualizer(MeshCat.SceneTrees.SceneNode(nothing, nothing, Dict{String, Vector{UInt8}}(), UInt8[0x83, 0xa7, 0x6f, 0x70, 0x74, 0x69, 0x6f, 0x6e, 0x73, 0x82  …  0x5f, 0x61, 0x6e, 0x69, 0x6d, 0x61, 0x74, 0x69, 0x6f, 0x6e], Dict{String, MeshCat.SceneTrees.SceneNode}(\"meshcat\" => MeshCat.SceneTrees.SceneNode(nothing, nothing, Dict{String, Vector{UInt8}}(), nothing, Dict{String, MeshCat.SceneTrees.SceneNode}(\"vic3\" => MeshCat.SceneTrees.SceneNode(UInt8[0x83, 0xa6, 0x6f, 0x62, 0x6a, 0x65, 0x63, 0x74, 0x84, 0xaa  …  0x73, 0x68, 0x63, 0x61, 0x74, 0x2f, 0x76, 0x69, 0x63, 0x33], nothing, Dict{String, Vector{UInt8}}(), nothing, Dict{String, MeshCat.SceneTrees.SceneNode}()), \"vic1\" => MeshCat.SceneTrees.SceneNode(UInt8[0x83, 0xa6, 0x6f, 0x62, 0x6a, 0x65, 0x63, 0x74, 0x84, 0xaa  …  0x73, 0x68, 0x63, 0x61, 0x74, 0x2f, 0x76, 0x69, 0x63, 0x31], nothing, Dict{String, Vector{UInt8}}(), nothing, Dict{String, MeshCat.SceneTrees.SceneNode}()), \"vic2\" => MeshCat.SceneTrees.SceneNode(UInt8[0x83, 0xa6, 0x6f, 0x62, 0x6a, 0x65, 0x63, 0x74, 0x84, 0xaa  …  0x73, 0x68, 0x63, 0x61, 0x74, 0x2f, 0x76, 0x69, 0x63, 0x32], nothing, Dict{String, Vector{UInt8}}(), nothing, Dict{String, MeshCat.SceneTrees.SceneNode}()))))), Set{Any}(), ip\"127.0.0.1\", 8702))"
      ]
     },
     "metadata": {},
     "output_type": "display_data"
    },
    {
     "name": "stdout",
     "output_type": "stream",
     "text": [
      "\u001b[0m\u001b[1mTest Summary:      |\u001b[22m\n",
      "quadrotor reorient | \u001b[36mNo tests\u001b[39m\n"
     ]
    },
    {
     "data": {
      "text/plain": [
       "Test.DefaultTestSet(\"quadrotor reorient\", Any[], 0, false, false)"
      ]
     },
     "execution_count": 8,
     "metadata": {},
     "output_type": "execute_result"
    }
   ],
   "source": [
    "@testset \"quadrotor reorient\" begin \n",
    "    \n",
    "    \n",
    "    #Add Controls Later\n",
    "    #X1, X2, X3, U1, U2, U3, t_vec, params  = quadrotor_reorient(verbose=true)\n",
    "    \n",
    "    \n",
    "    #---------------testing-----------------\n",
    "    # check lengths of everything \n",
    "#     @test length(X1) == length(X2) == length(X3)\n",
    "#     @test length(U1) == length(U2) == length(U3)\n",
    "#     @test length(X1) == params.N \n",
    "#     @test length(U1) == (params.N-1)\n",
    "    \n",
    "    # check for collisions \n",
    "#     distances = [distance_between_quads(x1[1:2],x2[1:2],x3[1:2]) for (x1,x2,x3) in zip(X1,X2,X3)]\n",
    "#     @test minimum(minimum.(distances)) >= 0.799\n",
    "    \n",
    "    # check initial and final conditions \n",
    "#     @test norm(X1[1] - params.x1ic, Inf) <= 1e-3 \n",
    "#     @test norm(X2[1] - params.x2ic, Inf) <= 1e-3 \n",
    "#     @test norm(X3[1] - params.x3ic, Inf) <= 1e-3 \n",
    "#     @test norm(X1[end] - params.x1g, Inf) <= 2e-1 \n",
    "#     @test norm(X2[end] - params.x2g, Inf) <= 2e-1 \n",
    "#     @test norm(X3[end] - params.x3g, Inf) <= 2e-1 \n",
    "    \n",
    "    # check dynamic feasibility \n",
    "#     @test check_dynamic_feasibility(params,X1,U1)\n",
    "#     @test check_dynamic_feasibility(params,X2,U2)\n",
    "#     @test check_dynamic_feasibility(params,X3,U3)\n",
    "    \n",
    "    \n",
    "    #---------------plotting/animation-------\n",
    "    display(animate_planar_monkeybot(xic, params.dt))\n",
    "end"
   ]
  },
  {
   "cell_type": "code",
   "execution_count": null,
   "id": "6adcfbf2",
   "metadata": {},
   "outputs": [],
   "source": []
  }
 ],
 "metadata": {
  "kernelspec": {
   "display_name": "Julia 1.6.7",
   "language": "julia",
   "name": "julia-1.6"
  },
  "language_info": {
   "file_extension": ".jl",
   "mimetype": "application/julia",
   "name": "julia",
   "version": "1.6.7"
  }
 },
 "nbformat": 4,
 "nbformat_minor": 5
}
