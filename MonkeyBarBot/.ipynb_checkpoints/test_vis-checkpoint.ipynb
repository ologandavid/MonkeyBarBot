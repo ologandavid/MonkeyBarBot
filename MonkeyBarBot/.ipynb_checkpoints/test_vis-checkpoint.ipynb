{
 "cells": [
  {
   "cell_type": "code",
   "execution_count": null,
   "id": "601989c4",
   "metadata": {},
   "outputs": [
    {
     "name": "stderr",
     "output_type": "stream",
     "text": [
      "\u001b[32m\u001b[1m    Updating\u001b[22m\u001b[39m registry at `~/.julia/registries/General`\n",
      "\u001b[32m\u001b[1m   Resolving\u001b[22m\u001b[39m package versions...\n",
      "\u001b[32m\u001b[1m  No Changes\u001b[22m\u001b[39m to `~/Dropbox/My Mac (MacBook Pro (2))/Desktop/CMU/Optimal Control/Optimal-Controls-Gymnastics-Bot/MonkeyBarBot/Project.toml`\n",
      "\u001b[32m\u001b[1m  No Changes\u001b[22m\u001b[39m to `~/Dropbox/My Mac (MacBook Pro (2))/Desktop/CMU/Optimal Control/Optimal-Controls-Gymnastics-Bot/MonkeyBarBot/Manifest.toml`\n",
      "\u001b[32m\u001b[1m   Resolving\u001b[22m\u001b[39m package versions...\n",
      "\u001b[32m\u001b[1m  No Changes\u001b[22m\u001b[39m to `~/Dropbox/My Mac (MacBook Pro (2))/Desktop/CMU/Optimal Control/Optimal-Controls-Gymnastics-Bot/MonkeyBarBot/Project.toml`\n",
      "\u001b[32m\u001b[1m  No Changes\u001b[22m\u001b[39m to `~/Dropbox/My Mac (MacBook Pro (2))/Desktop/CMU/Optimal Control/Optimal-Controls-Gymnastics-Bot/MonkeyBarBot/Manifest.toml`\n",
      "\u001b[32m\u001b[1m  Activating\u001b[22m\u001b[39m environment at `~/Dropbox/My Mac (MacBook Pro (2))/Desktop/CMU/Optimal Control/Optimal-Controls-Gymnastics-Bot/MonkeyBarBot/Project.toml`\n"
     ]
    }
   ],
   "source": [
    "import Pkg; Pkg.add(\"RobotZoo\"); Pkg.add(\"StaticArrays\")\n",
    "Pkg.activate(@__DIR__)\n",
    "Pkg.instantiate()\n",
    "import MathOptInterface as MOI\n",
    "import Ipopt \n",
    "import FiniteDiff\n",
    "import ForwardDiff as FD\n",
    "import Convex as cvx \n",
    "import ECOS\n",
    "using LinearAlgebra\n",
    "using Plots; plotly()\n",
    "using Random\n",
    "using JLD2\n",
    "using Test\n",
    "using MeshCat\n",
    "const mc = MeshCat\n",
    "# using TrajOptPlots\n",
    "# using StaticArrays\n",
    "using Printf\n",
    "using RobotZoo\n",
    "using StaticArrays"
   ]
  },
  {
   "cell_type": "code",
   "execution_count": null,
   "id": "3c9185ad",
   "metadata": {},
   "outputs": [],
   "source": [
    "include(joinpath(@__DIR__, \"utils\",\"fmincon.jl\"))\n",
    "include(joinpath(@__DIR__, \"utils\", \"monkeyBotDynamics.jl\"))\n",
    "include(joinpath(@__DIR__, \"utils\",\"walker.jl\"))"
   ]
  },
  {
   "cell_type": "code",
   "execution_count": null,
   "id": "ba807225",
   "metadata": {},
   "outputs": [],
   "source": [
    "model = (g = 9.81, mb= 5.0, mf = 1.0, ℓ_min = 0.5, ℓ_max = 1.5,L1 = 1.0,L2 = 1.0)\n",
    "N = 20\n",
    "X = Array{Any}(undef,N)\n",
    "c = Array{Any}(undef,N)\n",
    "c[1] = 1\n",
    "Xn = Vector([1.0,1.0,1.0,0.0,1.0,0.0])\n",
    "L = 1.0\n",
    "Θ = [0.0,0.0]\n",
    "\n",
    "# X2 = \n",
    "X[1] = Xn\n",
    "X[2] = -Xn\n",
    "@show X[1]\n",
    "dt = 0.1\n",
    "t = collect(0:dt:N*dt)"
   ]
  },
  {
   "cell_type": "code",
   "execution_count": null,
   "id": "fa1f6b61",
   "metadata": {},
   "outputs": [],
   "source": [
    "L1 = 1.0\n",
    "L2 = 1.0\n",
    "\n",
    "for i=2:10\n",
    "    theta = [(3.0*t[i]),pi/2]\n",
    "    px = 0.0\n",
    "    py = 0.0\n",
    "    Xn = Vector([theta[1],theta[2],px,py])\n",
    "    X[i] = Xn\n",
    "    c[i] = 1\n",
    "end\n",
    "\n",
    "for i=11:N\n",
    "    theta = [pi/2,(3.0*t[i])]\n",
    "    px = 0.0\n",
    "    py = 0.0\n",
    "    Xn = Vector([theta[1],theta[2],px,py])\n",
    "    X[i] = Xn\n",
    "    c[i] = -1\n",
    "end\n",
    "\n",
    "@show c"
   ]
  },
  {
   "cell_type": "code",
   "execution_count": null,
   "id": "00b1b3a6",
   "metadata": {},
   "outputs": [],
   "source": [
    "vis = Visualizer()\n",
    "build_walker!(vis, model::NamedTuple)\n",
    "anim = mc.Animation(floor(Int,1/dt))\n",
    "params = (l1 = 1.0,l2 = 1.0)\n",
    "for k = 1:N\n",
    "    contact_mode = c[k]\n",
    "#     switch contact mode , leftarm =1,rightarm = -1\n",
    "    mc.atframe(anim, k) do\n",
    "        update_monkey_pose!(vis,contact_mode,model::NamedTuple,params::NamedTuple, X[k])\n",
    "    end\n",
    "end\n",
    "mc.setanimation!(vis, anim)\n",
    "display(render(vis))"
   ]
  },
  {
   "cell_type": "code",
   "execution_count": null,
   "id": "917889bf",
   "metadata": {},
   "outputs": [],
   "source": []
  },
  {
   "cell_type": "code",
   "execution_count": null,
   "id": "bad71ba1",
   "metadata": {},
   "outputs": [],
   "source": []
  }
 ],
 "metadata": {
  "hide_input": false,
  "kernelspec": {
   "display_name": "Julia 1.6.7",
   "language": "julia",
   "name": "julia-1.6"
  },
  "language_info": {
   "file_extension": ".jl",
   "mimetype": "application/julia",
   "name": "julia",
   "version": "1.6.7"
  },
  "varInspector": {
   "cols": {
    "lenName": 16,
    "lenType": 16,
    "lenVar": 40
   },
   "kernels_config": {
    "python": {
     "delete_cmd_postfix": "",
     "delete_cmd_prefix": "del ",
     "library": "var_list.py",
     "varRefreshCmd": "print(var_dic_list())"
    },
    "r": {
     "delete_cmd_postfix": ") ",
     "delete_cmd_prefix": "rm(",
     "library": "var_list.r",
     "varRefreshCmd": "cat(var_dic_list()) "
    }
   },
   "types_to_exclude": [
    "module",
    "function",
    "builtin_function_or_method",
    "instance",
    "_Feature"
   ],
   "window_display": false
  }
 },
 "nbformat": 4,
 "nbformat_minor": 5
}
