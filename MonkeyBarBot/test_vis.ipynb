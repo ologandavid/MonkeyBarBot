{
 "cells": [
  {
   "cell_type": "code",
   "execution_count": 1,
   "id": "601989c4",
   "metadata": {},
   "outputs": [
    {
     "name": "stderr",
     "output_type": "stream",
     "text": [
      "\u001b[32m\u001b[1m    Updating\u001b[22m\u001b[39m registry at `~/.julia/registries/General`\n",
      "\u001b[32m\u001b[1m   Resolving\u001b[22m\u001b[39m package versions...\n",
      "\u001b[32m\u001b[1m  No Changes\u001b[22m\u001b[39m to `~/Dropbox/My Mac (MacBook Pro (2))/Desktop/CMU/Optimal Control/Optimal-Controls-Gymnastics-Bot/MonkeyBarBot/Project.toml`\n",
      "\u001b[32m\u001b[1m  No Changes\u001b[22m\u001b[39m to `~/Dropbox/My Mac (MacBook Pro (2))/Desktop/CMU/Optimal Control/Optimal-Controls-Gymnastics-Bot/MonkeyBarBot/Manifest.toml`\n",
      "\u001b[32m\u001b[1m   Resolving\u001b[22m\u001b[39m package versions...\n",
      "\u001b[32m\u001b[1m  No Changes\u001b[22m\u001b[39m to `~/Dropbox/My Mac (MacBook Pro (2))/Desktop/CMU/Optimal Control/Optimal-Controls-Gymnastics-Bot/MonkeyBarBot/Project.toml`\n",
      "\u001b[32m\u001b[1m  No Changes\u001b[22m\u001b[39m to `~/Dropbox/My Mac (MacBook Pro (2))/Desktop/CMU/Optimal Control/Optimal-Controls-Gymnastics-Bot/MonkeyBarBot/Manifest.toml`\n",
      "\u001b[32m\u001b[1m  Activating\u001b[22m\u001b[39m environment at `~/Dropbox/My Mac (MacBook Pro (2))/Desktop/CMU/Optimal Control/Optimal-Controls-Gymnastics-Bot/MonkeyBarBot/Project.toml`\n",
      "\u001b[33m\u001b[1m┌ \u001b[22m\u001b[39m\u001b[33m\u001b[1mWarning: \u001b[22m\u001b[39mbackend `PlotlyKaleido` is not installed.\n",
      "\u001b[33m\u001b[1m└ \u001b[22m\u001b[39m\u001b[90m@ Plots ~/.julia/packages/Plots/B5j7d/src/backends.jl:43\u001b[39m\n"
     ]
    }
   ],
   "source": [
    "import Pkg; Pkg.add(\"RobotZoo\"); Pkg.add(\"StaticArrays\")\n",
    "Pkg.activate(@__DIR__)\n",
    "Pkg.instantiate()\n",
    "import MathOptInterface as MOI\n",
    "import Ipopt \n",
    "import FiniteDiff\n",
    "import ForwardDiff as FD\n",
    "import Convex as cvx \n",
    "import ECOS\n",
    "using LinearAlgebra\n",
    "using Plots; plotly()\n",
    "using Random\n",
    "using JLD2\n",
    "using Test\n",
    "using MeshCat\n",
    "const mc = MeshCat\n",
    "# using TrajOptPlots\n",
    "# using StaticArrays\n",
    "using Printf\n",
    "using RobotZoo\n",
    "using StaticArrays"
   ]
  },
  {
   "cell_type": "code",
   "execution_count": 2,
   "id": "3c9185ad",
   "metadata": {},
   "outputs": [
    {
     "data": {
      "text/plain": [
       "update_walker_pose! (generic function with 1 method)"
      ]
     },
     "execution_count": 2,
     "metadata": {},
     "output_type": "execute_result"
    }
   ],
   "source": [
    "include(joinpath(@__DIR__, \"utils\",\"fmincon.jl\"))\n",
    "include(joinpath(@__DIR__, \"utils\", \"monkeyBotDynamics.jl\"))\n",
    "include(joinpath(@__DIR__, \"utils\",\"walker.jl\"))"
   ]
  },
  {
   "cell_type": "code",
   "execution_count": 3,
   "id": "ba807225",
   "metadata": {},
   "outputs": [
    {
     "name": "stdout",
     "output_type": "stream",
     "text": [
      "X[1] = [1.0, 1.0, 1.0, 0.0, 1.0, 0.0]\n"
     ]
    },
    {
     "data": {
      "text/plain": [
       "21-element Vector{Float64}:\n",
       " 0.0\n",
       " 0.1\n",
       " 0.2\n",
       " 0.3\n",
       " 0.4\n",
       " 0.5\n",
       " 0.6\n",
       " 0.7\n",
       " 0.8\n",
       " 0.9\n",
       " 1.0\n",
       " 1.1\n",
       " 1.2\n",
       " 1.3\n",
       " 1.4\n",
       " 1.5\n",
       " 1.6\n",
       " 1.7\n",
       " 1.8\n",
       " 1.9\n",
       " 2.0"
      ]
     },
     "execution_count": 3,
     "metadata": {},
     "output_type": "execute_result"
    }
   ],
   "source": [
    "model = (g = 9.81, mb= 5.0, mf = 1.0, ℓ_min = 0.5, ℓ_max = 1.5,L1 = 1.0,L2 = 1.0)\n",
    "N = 20\n",
    "X = Array{Any}(undef,N)\n",
    "c = Array{Any}(undef,N)\n",
    "c[1] = 1\n",
    "Xn = Vector([1.0,1.0,1.0,0.0,1.0,0.0])\n",
    "L = 1.0\n",
    "Θ = [0.0,0.0]\n",
    "\n",
    "# X2 = \n",
    "X[1] = Xn\n",
    "X[2] = -Xn\n",
    "@show X[1]\n",
    "dt = 0.1\n",
    "t = collect(0:dt:N*dt)"
   ]
  },
  {
   "cell_type": "code",
   "execution_count": 4,
   "id": "fa1f6b61",
   "metadata": {},
   "outputs": [
    {
     "name": "stdout",
     "output_type": "stream",
     "text": [
      "c = Any[1, 1, 1, 1, 1, 1, 1, 1, 1, 1, -1, -1, -1, -1, -1, -1, -1, -1, -1, -1]\n"
     ]
    },
    {
     "data": {
      "text/plain": [
       "20-element Vector{Any}:\n",
       "  1\n",
       "  1\n",
       "  1\n",
       "  1\n",
       "  1\n",
       "  1\n",
       "  1\n",
       "  1\n",
       "  1\n",
       "  1\n",
       " -1\n",
       " -1\n",
       " -1\n",
       " -1\n",
       " -1\n",
       " -1\n",
       " -1\n",
       " -1\n",
       " -1\n",
       " -1"
      ]
     },
     "execution_count": 4,
     "metadata": {},
     "output_type": "execute_result"
    }
   ],
   "source": [
    "L1 = 1.0\n",
    "L2 = 1.0\n",
    "\n",
    "for i=2:10\n",
    "    theta = [(3.0*t[i]),pi/2]\n",
    "    px = 0.0\n",
    "    py = 0.0\n",
    "    Xn = Vector([theta[1],theta[2],px,py])\n",
    "    X[i] = Xn\n",
    "    c[i] = 1\n",
    "end\n",
    "\n",
    "for i=11:N\n",
    "    theta = [pi/2,(3.0*t[i])]\n",
    "    px = 0.0\n",
    "    py = 0.0\n",
    "    Xn = Vector([theta[1],theta[2],px,py])\n",
    "    X[i] = Xn\n",
    "    c[i] = -1\n",
    "end\n",
    "\n",
    "@show c"
   ]
  },
  {
   "cell_type": "code",
   "execution_count": 5,
   "id": "00b1b3a6",
   "metadata": {},
   "outputs": [
    {
     "name": "stderr",
     "output_type": "stream",
     "text": [
      "\u001b[36m\u001b[1m┌ \u001b[22m\u001b[39m\u001b[36m\u001b[1mInfo: \u001b[22m\u001b[39mMeshCat server started. You can open the visualizer by visiting the following URL in your browser:\n",
      "\u001b[36m\u001b[1m└ \u001b[22m\u001b[39mhttp://127.0.0.1:8701\n"
     ]
    },
    {
     "ename": "LoadError",
     "evalue": "UndefVarError: xb not defined",
     "output_type": "error",
     "traceback": [
      "UndefVarError: xb not defined",
      "",
      "Stacktrace:",
      " [1] overdub",
      "   @ ~/Dropbox/My Mac (MacBook Pro (2))/Desktop/CMU/Optimal Control/Optimal-Controls-Gymnastics-Bot/MonkeyBarBot/utils/walker.jl:50 [inlined]",
      " [2] overdub(::Cassette.Context{nametype(AnimationCtx), Tuple{MeshCat.Animation, Int64}, Nothing, Cassette.var\"##PassType#285\", Nothing, Nothing}, ::typeof(update_monkey_pose!), ::Visualizer, ::Int64, ::NamedTuple{(:g, :mb, :mf, :ℓ_min, :ℓ_max, :L1, :L2), NTuple{7, Float64}}, ::NamedTuple{(:l1, :l2), Tuple{Float64, Float64}}, ::Vector{Float64})",
      "   @ Cassette ~/.julia/packages/Cassette/4Z3UO/src/overdub.jl:0",
      " [3] (::var\"",
      "   @ ./In[5]:9 [inlined]",
      " [4] overdub",
      "   @ ./In[5]:9 [inlined]",
      " [5] overdub(overdub_context#283::Cassette.Context{nametype(AnimationCtx), Tuple{MeshCat.Animation, Int64}, Nothing, Cassette.var\"##PassType#285\", Nothing, Nothing}, overdub_arguments#284::var\"#16#17\"{Int64, Int64})",
      "   @ Cassette ~/.julia/packages/Cassette/4Z3UO/src/overdub.jl:0",
      " [6] atframe(f::Function, animation::MeshCat.Animation, frame::Int64)",
      "   @ MeshCat ~/.julia/packages/MeshCat/oC0sL/src/atframe.jl:100",
      " [7] top-level scope",
      "   @ In[5]:8"
     ]
    }
   ],
   "source": [
    "vis = Visualizer()\n",
    "build_walker!(vis, model::NamedTuple)\n",
    "anim = mc.Animation(floor(Int,1/dt))\n",
    "params = (l1 = 1.0,l2 = 1.0)\n",
    "for k = 1:N\n",
    "    contact_mode = c[k]\n",
    "#     switch contact mode , leftarm =1,rightarm = -1\n",
    "    mc.atframe(anim, k) do\n",
    "        update_monkey_pose!(vis,contact_mode,model::NamedTuple,params::NamedTuple, X[k])\n",
    "    end\n",
    "end\n",
    "mc.setanimation!(vis, anim)\n",
    "display(render(vis))"
   ]
  },
  {
   "cell_type": "code",
   "execution_count": null,
   "id": "917889bf",
   "metadata": {},
   "outputs": [],
   "source": []
  },
  {
   "cell_type": "code",
   "execution_count": null,
   "id": "bad71ba1",
   "metadata": {},
   "outputs": [],
   "source": []
  }
 ],
 "metadata": {
  "hide_input": false,
  "kernelspec": {
   "display_name": "Julia 1.6.7",
   "language": "julia",
   "name": "julia-1.6"
  },
  "language_info": {
   "file_extension": ".jl",
   "mimetype": "application/julia",
   "name": "julia",
   "version": "1.6.7"
  },
  "varInspector": {
   "cols": {
    "lenName": 16,
    "lenType": 16,
    "lenVar": 40
   },
   "kernels_config": {
    "python": {
     "delete_cmd_postfix": "",
     "delete_cmd_prefix": "del ",
     "library": "var_list.py",
     "varRefreshCmd": "print(var_dic_list())"
    },
    "r": {
     "delete_cmd_postfix": ") ",
     "delete_cmd_prefix": "rm(",
     "library": "var_list.r",
     "varRefreshCmd": "cat(var_dic_list()) "
    }
   },
   "types_to_exclude": [
    "module",
    "function",
    "builtin_function_or_method",
    "instance",
    "_Feature"
   ],
   "window_display": false
  }
 },
 "nbformat": 4,
 "nbformat_minor": 5
}
